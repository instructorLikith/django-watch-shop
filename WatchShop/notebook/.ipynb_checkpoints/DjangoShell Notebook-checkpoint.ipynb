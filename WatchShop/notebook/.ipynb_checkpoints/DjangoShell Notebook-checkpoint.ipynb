{
 "cells": [
  {
   "cell_type": "markdown",
   "id": "7eaa13b2",
   "metadata": {},
   "source": [
    "# Django Notebook Setup"
   ]
  },
  {
   "cell_type": "code",
   "execution_count": 1,
   "id": "bca03bdc",
   "metadata": {},
   "outputs": [],
   "source": [
    "import django\n",
    "import os\n",
    "os.environ.setdefault('DJANGO_SETTINGS_MODULE', 'rest.settings')\n",
    "os.environ['DJANGO_ALLOW_ASYNC_UNSAFE'] = 'true'\n",
    "django.setup()"
   ]
  },
  {
   "cell_type": "markdown",
   "id": "38b51963",
   "metadata": {},
   "source": [
    "# Import model from Django"
   ]
  },
  {
   "cell_type": "code",
   "execution_count": 4,
   "id": "3102f996",
   "metadata": {},
   "outputs": [],
   "source": [
    "from homepage.models import WatchesUploads"
   ]
  },
  {
   "cell_type": "markdown",
   "id": "b5b679b4",
   "metadata": {},
   "source": [
    "# 1. Get all objects "
   ]
  },
  {
   "cell_type": "code",
   "execution_count": 5,
   "id": "0ed3e4a6",
   "metadata": {},
   "outputs": [],
   "source": [
    "items = WatchesUploads.objects.all()"
   ]
  },
  {
   "cell_type": "code",
   "execution_count": 16,
   "id": "37e03a66",
   "metadata": {},
   "outputs": [
    {
     "data": {
      "text/plain": [
       "<QuerySet [<WatchesUploads: This is name G-Shock>, <WatchesUploads: This is name Casio-S2>, <WatchesUploads: This is name Seiko>, <WatchesUploads: This is name Casio-S1>]>"
      ]
     },
     "execution_count": 16,
     "metadata": {},
     "output_type": "execute_result"
    }
   ],
   "source": [
    "items"
   ]
  },
  {
   "cell_type": "code",
   "execution_count": 18,
   "id": "5d84b87d",
   "metadata": {},
   "outputs": [
    {
     "data": {
      "text/plain": [
       "django.db.models.query.QuerySet"
      ]
     },
     "execution_count": 18,
     "metadata": {},
     "output_type": "execute_result"
    }
   ],
   "source": [
    "type(items)"
   ]
  },
  {
   "cell_type": "code",
   "execution_count": 20,
   "id": "cf1842fe",
   "metadata": {},
   "outputs": [
    {
     "data": {
      "text/plain": [
       "str"
      ]
     },
     "execution_count": 20,
     "metadata": {},
     "output_type": "execute_result"
    }
   ],
   "source": [
    "type(\"Hello\")"
   ]
  },
  {
   "cell_type": "code",
   "execution_count": 21,
   "id": "9a65ab76",
   "metadata": {},
   "outputs": [
    {
     "data": {
      "text/plain": [
       "int"
      ]
     },
     "execution_count": 21,
     "metadata": {},
     "output_type": "execute_result"
    }
   ],
   "source": [
    "type(55)"
   ]
  },
  {
   "cell_type": "code",
   "execution_count": null,
   "id": "0f560583",
   "metadata": {},
   "outputs": [],
   "source": []
  },
  {
   "cell_type": "code",
   "execution_count": 8,
   "id": "98cddc9f",
   "metadata": {},
   "outputs": [
    {
     "name": "stdout",
     "output_type": "stream",
     "text": [
      "G-Shock 6558.99 10\n",
      "Casio-S2 5660.0 1\n",
      "Seiko 6656.0 1\n",
      "Casio-S1 9999.0 1\n"
     ]
    }
   ],
   "source": [
    "for item in items:\n",
    "    print(item.name, item.price, item.count)"
   ]
  },
  {
   "cell_type": "code",
   "execution_count": 9,
   "id": "9209c099",
   "metadata": {},
   "outputs": [],
   "source": [
    "def Show_Data(item):\n",
    "    if type(item) == django.db.models.query.QuerySet:\n",
    "        for watch in item:\n",
    "            print(watch.id, \"|\" , watch.name, \"|\" , watch.price, \"|\" ,watch.count)\n",
    "    else:\n",
    "        print(item.id, \"|\" , item.name, \"|\" , item.price, \"|\" ,item.count)\n",
    "    return None"
   ]
  },
  {
   "cell_type": "code",
   "execution_count": 11,
   "id": "8c9dc51a",
   "metadata": {},
   "outputs": [
    {
     "name": "stdout",
     "output_type": "stream",
     "text": [
      "1 | G-Shock | 6558.99 | 10\n",
      "2 | Casio-S2 | 5660.0 | 1\n",
      "3 | Seiko | 6656.0 | 1\n",
      "4 | Casio-S1 | 9999.0 | 1\n"
     ]
    }
   ],
   "source": [
    "#Get all items\n",
    "items = WatchesUploads.objects.all()\n",
    "Show_Data(items)"
   ]
  },
  {
   "cell_type": "code",
   "execution_count": 12,
   "id": "88a14b98",
   "metadata": {},
   "outputs": [
    {
     "name": "stdout",
     "output_type": "stream",
     "text": [
      "3 | Seiko | 6656.0 | 1\n"
     ]
    }
   ],
   "source": [
    "# Get single item\n",
    "single_item = WatchesUploads.objects.get(id=3)\n",
    "Show_Data(single_item)"
   ]
  },
  {
   "cell_type": "code",
   "execution_count": 15,
   "id": "0ffb87a0",
   "metadata": {},
   "outputs": [
    {
     "name": "stdout",
     "output_type": "stream",
     "text": [
      "3 | Seiko | 6656.0 | 8\n"
     ]
    }
   ],
   "source": [
    "#Change existing value -- right way (use .save())\n",
    "watch_count = WatchesUploads.objects.get(id=3)\n",
    "watch_count.count= 8\n",
    "watch_count.save()\n",
    "Show_Data(watch_count)"
   ]
  },
  {
   "cell_type": "code",
   "execution_count": 14,
   "id": "18272266",
   "metadata": {},
   "outputs": [
    {
     "name": "stdout",
     "output_type": "stream",
     "text": [
      "3 | Seiko | 6656.0 | 5\n"
     ]
    }
   ],
   "source": [
    "#Change existing value -- wrong way\n",
    "watch_count = WatchesUploads.objects.get(id=3)\n",
    "watch_count.count= 5\n",
    "Show_Data(watch_count)"
   ]
  },
  {
   "cell_type": "markdown",
   "id": "c2554b66",
   "metadata": {},
   "source": [
    "# 2 Filter items"
   ]
  },
  {
   "cell_type": "code",
   "execution_count": 22,
   "id": "38627f17",
   "metadata": {},
   "outputs": [
    {
     "name": "stdout",
     "output_type": "stream",
     "text": [
      "2 | Casio-S2 | 5660.0 | 1\n",
      "4 | Casio-S1 | 9999.0 | 1\n"
     ]
    }
   ],
   "source": [
    "#Example using name\n",
    "name= \"Cas\"\n",
    "filter_item = WatchesUploads.objects.filter(name__startswith=name)\n",
    "Show_Data(filter_item)"
   ]
  },
  {
   "cell_type": "code",
   "execution_count": 25,
   "id": "95896164",
   "metadata": {},
   "outputs": [
    {
     "name": "stdout",
     "output_type": "stream",
     "text": [
      "2 | Casio-S2 | 5660.0 | 1\n"
     ]
    }
   ],
   "source": [
    "#Example using price\n",
    "price = \"6000\"\n",
    "filter_price = WatchesUploads.objects.filter(price__lte = price)\n",
    "Show_Data(filter_price)"
   ]
  },
  {
   "cell_type": "markdown",
   "id": "f8972098",
   "metadata": {},
   "source": [
    "# 3 Sort the items"
   ]
  },
  {
   "cell_type": "code",
   "execution_count": 26,
   "id": "bf15118e",
   "metadata": {},
   "outputs": [
    {
     "name": "stdout",
     "output_type": "stream",
     "text": [
      "2 | Casio-S2 | 5660.0 | 1\n",
      "1 | G-Shock | 6558.99 | 10\n",
      "3 | Seiko | 6656.0 | 8\n",
      "4 | Casio-S1 | 9999.0 | 1\n"
     ]
    }
   ],
   "source": [
    "#Ascending - by default\n",
    "sort_objects = WatchesUploads.objects.order_by(\"price\")\n",
    "Show_Data(sort_objects)"
   ]
  },
  {
   "cell_type": "code",
   "execution_count": 29,
   "id": "4569bf8a",
   "metadata": {},
   "outputs": [
    {
     "name": "stdout",
     "output_type": "stream",
     "text": [
      "4 | Casio-S1 | 9999.0 | 1\n",
      "3 | Seiko | 6656.0 | 8\n",
      "1 | G-Shock | 6558.99 | 10\n",
      "2 | Casio-S2 | 5660.0 | 1\n"
     ]
    }
   ],
   "source": [
    "#Dscending \n",
    "sort_objects = WatchesUploads.objects.order_by(\"price\").reverse()\n",
    "#sort_objects = WatchesUploads.objects.order_by(\"-price\")\n",
    "Show_Data(sort_objects)"
   ]
  },
  {
   "cell_type": "code",
   "execution_count": null,
   "id": "2c718b2b",
   "metadata": {},
   "outputs": [],
   "source": []
  },
  {
   "cell_type": "code",
   "execution_count": null,
   "id": "851afd16",
   "metadata": {},
   "outputs": [],
   "source": []
  },
  {
   "cell_type": "code",
   "execution_count": null,
   "id": "3d19b711",
   "metadata": {},
   "outputs": [],
   "source": []
  },
  {
   "cell_type": "code",
   "execution_count": null,
   "id": "7314e169",
   "metadata": {},
   "outputs": [],
   "source": []
  }
 ],
 "metadata": {
  "kernelspec": {
   "display_name": "Django Shell-Plus",
   "language": "python",
   "name": "django_extensions"
  },
  "language_info": {
   "codemirror_mode": {
    "name": "ipython",
    "version": 3
   },
   "file_extension": ".py",
   "mimetype": "text/x-python",
   "name": "python",
   "nbconvert_exporter": "python",
   "pygments_lexer": "ipython3",
   "version": "3.10.0"
  }
 },
 "nbformat": 4,
 "nbformat_minor": 5
}
