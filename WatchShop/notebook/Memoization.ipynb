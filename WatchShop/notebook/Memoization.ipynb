{
 "cells": [
  {
   "cell_type": "code",
   "execution_count": 2,
   "id": "5b5e473d-234e-4837-aa0d-3e0e5a1e7c93",
   "metadata": {},
   "outputs": [],
   "source": [
    "def fib(n):\n",
    "    if n==0:\n",
    "        return 0\n",
    "    elif n==1 or n==2:\n",
    "        return 1\n",
    "    return fib(n-1) + fib(n-2)"
   ]
  },
  {
   "cell_type": "code",
   "execution_count": 3,
   "id": "5d212ede-2fae-4bd1-9690-80f9120e71ad",
   "metadata": {},
   "outputs": [
    {
     "data": {
      "text/plain": [
       "3"
      ]
     },
     "execution_count": 3,
     "metadata": {},
     "output_type": "execute_result"
    }
   ],
   "source": [
    "fib(4)"
   ]
  },
  {
   "cell_type": "code",
   "execution_count": 13,
   "id": "404853af-57a3-4f71-9a1f-4afd6458be76",
   "metadata": {},
   "outputs": [
    {
     "data": {
      "text/plain": [
       "13"
      ]
     },
     "execution_count": 13,
     "metadata": {},
     "output_type": "execute_result"
    }
   ],
   "source": [
    "fib(7)"
   ]
  },
  {
   "cell_type": "markdown",
   "id": "226de9aa-a855-4bc8-af6a-de74fac06279",
   "metadata": {},
   "source": [
    "# Memoization"
   ]
  },
  {
   "cell_type": "code",
   "execution_count": 8,
   "id": "65e939f3-114b-4da5-b357-fdaedc137056",
   "metadata": {},
   "outputs": [],
   "source": [
    "def fib2(n, mem={}):\n",
    "    if n in mem.keys():\n",
    "        return mem[n]\n",
    "    if n==0:\n",
    "        mem[0] = 0\n",
    "        return mem[0]\n",
    "    elif n==1 or n==2:\n",
    "        mem[n] = 1\n",
    "        return mem[n]\n",
    "    mem[n] =  fib2(n-1, mem) + fib2(n-2, mem)\n",
    "    return mem[n]"
   ]
  },
  {
   "cell_type": "code",
   "execution_count": 9,
   "id": "9cdeea64-9b3e-4743-aa38-f7ed1a33874f",
   "metadata": {},
   "outputs": [
    {
     "data": {
      "text/plain": [
       "13"
      ]
     },
     "execution_count": 9,
     "metadata": {},
     "output_type": "execute_result"
    }
   ],
   "source": [
    "fib2(7)"
   ]
  },
  {
   "cell_type": "code",
   "execution_count": 10,
   "id": "265c12f0-9da4-4a4f-a033-9fee55fd8499",
   "metadata": {},
   "outputs": [
    {
     "data": {
      "text/plain": [
       "12586269025"
      ]
     },
     "execution_count": 10,
     "metadata": {},
     "output_type": "execute_result"
    }
   ],
   "source": [
    "fib2(50)"
   ]
  },
  {
   "cell_type": "code",
   "execution_count": 14,
   "id": "be4d2c07-ad4f-466b-97a5-eb9fcc0fe052",
   "metadata": {},
   "outputs": [
    {
     "data": {
      "text/plain": [
       "354224848179261915075"
      ]
     },
     "execution_count": 14,
     "metadata": {},
     "output_type": "execute_result"
    }
   ],
   "source": [
    "fib2(100)"
   ]
  },
  {
   "cell_type": "markdown",
   "id": "3b3514ea-7e53-4af3-b3bf-c1268fdbc85d",
   "metadata": {},
   "source": [
    "# LRU_CACHE"
   ]
  },
  {
   "cell_type": "code",
   "execution_count": 17,
   "id": "de93f74b-9625-48b0-a21e-1e5b597e5255",
   "metadata": {},
   "outputs": [],
   "source": [
    "from functools import lru_cache\n",
    "\n",
    "@lru_cache(None)\n",
    "def fib3(n, mem={}):\n",
    "    if n==0:\n",
    "        return 0\n",
    "    elif n==1 or n==2:\n",
    "        return 1\n",
    "    return fib3(n-1) + fib3(n-2)"
   ]
  },
  {
   "cell_type": "code",
   "execution_count": 18,
   "id": "f1681986-88e2-482f-8fd6-39f44e5fcbef",
   "metadata": {},
   "outputs": [
    {
     "data": {
      "text/plain": [
       "354224848179261915075"
      ]
     },
     "execution_count": 18,
     "metadata": {},
     "output_type": "execute_result"
    }
   ],
   "source": [
    "fib3(100)"
   ]
  }
 ],
 "metadata": {
  "kernelspec": {
   "display_name": "Python 3 (ipykernel)",
   "language": "python",
   "name": "python3"
  },
  "language_info": {
   "codemirror_mode": {
    "name": "ipython",
    "version": 3
   },
   "file_extension": ".py",
   "mimetype": "text/x-python",
   "name": "python",
   "nbconvert_exporter": "python",
   "pygments_lexer": "ipython3",
   "version": "3.10.0"
  }
 },
 "nbformat": 4,
 "nbformat_minor": 5
}
