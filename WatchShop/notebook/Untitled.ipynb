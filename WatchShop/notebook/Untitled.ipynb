{
 "cells": [
  {
   "cell_type": "code",
   "execution_count": 11,
   "id": "fd30f300-3614-42bf-9977-36135cdbd890",
   "metadata": {},
   "outputs": [],
   "source": [
    "class A:\n",
    "    def __init__(self,name):\n",
    "        self.name = name\n",
    "\n",
    "    def __str__(self):\n",
    "        return self.name"
   ]
  },
  {
   "cell_type": "code",
   "execution_count": 14,
   "id": "d0a67dd2-eadf-4e74-a039-1d6d1fc2a2c8",
   "metadata": {},
   "outputs": [],
   "source": [
    "obj1 = A(\"akash\")"
   ]
  },
  {
   "cell_type": "code",
   "execution_count": 15,
   "id": "bcbfb592-4b44-41ee-96dd-c05a496216af",
   "metadata": {},
   "outputs": [
    {
     "name": "stdout",
     "output_type": "stream",
     "text": [
      "akash\n"
     ]
    }
   ],
   "source": [
    "print(obj1)"
   ]
  },
  {
   "cell_type": "code",
   "execution_count": null,
   "id": "bef3d10e-3751-4eff-b96e-9188d05b2943",
   "metadata": {},
   "outputs": [],
   "source": []
  },
  {
   "cell_type": "markdown",
   "id": "5cea64fa-622e-4997-a8a7-40a0845ea3e9",
   "metadata": {},
   "source": [
    "# Decorators"
   ]
  },
  {
   "cell_type": "code",
   "execution_count": 25,
   "id": "f70edcd4-ab07-4f0a-b410-83d4eee372cb",
   "metadata": {},
   "outputs": [],
   "source": [
    "def outerfun(func):\n",
    "\n",
    "    def innerfun():\n",
    "        print(\"Before\")\n",
    "        func()\n",
    "         \n",
    "\n",
    "    return innerfun"
   ]
  },
  {
   "cell_type": "code",
   "execution_count": 26,
   "id": "1afab4bd-c48a-49c9-a9b8-d3e2630154e0",
   "metadata": {},
   "outputs": [
    {
     "data": {
      "text/plain": [
       "<function __main__.outerfun(func)>"
      ]
     },
     "execution_count": 26,
     "metadata": {},
     "output_type": "execute_result"
    }
   ],
   "source": [
    "outerfun"
   ]
  },
  {
   "cell_type": "code",
   "execution_count": 30,
   "id": "d8d2fe82-e77d-48c8-b162-da28b4f329d4",
   "metadata": {},
   "outputs": [],
   "source": [
    "@outerfun\n",
    "def hi():\n",
    "    print(\"This is hi!\")"
   ]
  },
  {
   "cell_type": "code",
   "execution_count": 31,
   "id": "6a339237-2e1f-416f-a17c-9ec9bb969e79",
   "metadata": {},
   "outputs": [
    {
     "name": "stdout",
     "output_type": "stream",
     "text": [
      "Before\n",
      "This is hi!\n",
      "After\n"
     ]
    }
   ],
   "source": [
    "hi()"
   ]
  },
  {
   "cell_type": "code",
   "execution_count": null,
   "id": "47e80195-788f-4504-b783-5b38b86d101a",
   "metadata": {},
   "outputs": [],
   "source": []
  }
 ],
 "metadata": {
  "kernelspec": {
   "display_name": "Python 3 (ipykernel)",
   "language": "python",
   "name": "python3"
  },
  "language_info": {
   "codemirror_mode": {
    "name": "ipython",
    "version": 3
   },
   "file_extension": ".py",
   "mimetype": "text/x-python",
   "name": "python",
   "nbconvert_exporter": "python",
   "pygments_lexer": "ipython3",
   "version": "3.10.0"
  }
 },
 "nbformat": 4,
 "nbformat_minor": 5
}
